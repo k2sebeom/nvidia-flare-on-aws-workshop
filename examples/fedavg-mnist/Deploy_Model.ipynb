{
 "cells": [
  {
   "cell_type": "markdown",
   "id": "c874270d-4321-4e74-915d-9e04911abbc2",
   "metadata": {},
   "source": [
    "# Deploy Model"
   ]
  },
  {
   "cell_type": "markdown",
   "id": "f0387dce-948f-4870-be1c-406535740d6c",
   "metadata": {},
   "source": [
    "## Download Job Result"
   ]
  },
  {
   "cell_type": "code",
   "execution_count": null,
   "id": "434611d0-2e3d-475e-9f54-abbd2718eef0",
   "metadata": {},
   "outputs": [],
   "source": [
    "JOB_ID=\"<Replace with your job id>\""
   ]
  },
  {
   "cell_type": "markdown",
   "id": "79a5269d-9667-4d0f-a6c6-e37f112034fd",
   "metadata": {},
   "source": [
    "You can skip this part if you have already downloaded the artifact in `Analyze_Result.ipynb`"
   ]
  },
  {
   "cell_type": "code",
   "execution_count": null,
   "id": "2f85e3dc-062c-430d-a54f-1b7e4270129b",
   "metadata": {},
   "outputs": [],
   "source": [
    "import boto3\n",
    "import os\n",
    "from pathlib import Path\n",
    "from tqdm import tqdm\n",
    "\n",
    "sts_client = boto3.client('sts')\n",
    "account_info = sts_client.get_caller_identity()\n",
    "account_id = account_info['Account']\n",
    "\n",
    "bucket_name = f\"flare-provision-bucket-{account_id}\"\n",
    "\n",
    "local_dir = Path('outputs') / JOB_ID\n",
    "\n",
    "s3 = boto3.resource('s3')\n",
    "bucket = s3.Bucket(bucket_name)\n",
    "\n",
    "# Create local directory if it doesn't exist\n",
    "if local_dir and not os.path.exists(local_dir):\n",
    "    os.makedirs(local_dir)\n",
    "\n",
    "job_key = f'outputs/{JOB_ID}'\n",
    "# Download each object\n",
    "for obj in tqdm(bucket.objects.filter(Prefix=job_key)):\n",
    "    if obj.key.endswith('/'):\n",
    "        continue\n",
    "\n",
    "    os.makedirs(os.path.dirname(obj.key), exist_ok=True)\n",
    "    bucket.download_file(obj.key, obj.key)\n",
    "print('Download Complete')"
   ]
  },
  {
   "cell_type": "markdown",
   "id": "e751bb14-d768-4cd9-a2f4-d0f40c24a5f9",
   "metadata": {},
   "source": [
    "## Upload Artifact to SageMaker Bucket"
   ]
  },
  {
   "cell_type": "code",
   "execution_count": null,
   "id": "3c230b92-072e-4be6-adec-7c9432f77a3c",
   "metadata": {},
   "outputs": [],
   "source": [
    "from torch import nn\n",
    "from torch.functional import F\n",
    "\n",
    "\n",
    "class Net(nn.Module):\n",
    "    def __init__(self):\n",
    "        super(Net, self).__init__()\n",
    "        self.conv1 = nn.Conv2d(1, 10, kernel_size=5)\n",
    "        self.conv2 = nn.Conv2d(10, 20, kernel_size=5)\n",
    "        self.conv2_drop = nn.Dropout2d()\n",
    "        self.fc1 = nn.Linear(320, 50)\n",
    "        self.fc2 = nn.Linear(50, 10)\n",
    "        self.activation = nn.LogSoftmax(dim=1)\n",
    "\n",
    "    def forward(self, x):\n",
    "        x = F.relu(F.max_pool2d(self.conv1(x), 2))\n",
    "        x = F.relu(F.max_pool2d(self.conv2_drop(self.conv2(x)), 2))\n",
    "        x = x.view(-1, 320)\n",
    "        x = F.relu(self.fc1(x))\n",
    "        x = F.dropout(x, training=self.training)\n",
    "        x = self.fc2(x)\n",
    "        return self.activation(x)"
   ]
  },
  {
   "cell_type": "code",
   "execution_count": null,
   "id": "3050a79d-131f-4856-9f37-cec186460c16",
   "metadata": {},
   "outputs": [],
   "source": [
    "import torch\n",
    "import os\n",
    "from pathlib import Path\n",
    "\n",
    "local_dir = Path('outputs') / JOB_ID\n",
    "model_path = local_dir / 'workspace' / 'app_server' / 'best_FL_global_model.pt'\n",
    "\n",
    "model = Net()\n",
    "model.load_state_dict(torch.load(model_path, weights_only=True)['model'])\n",
    "model.eval()\n",
    "\n",
    "torch.jit.script(model).save('model.pt')"
   ]
  },
  {
   "cell_type": "code",
   "execution_count": null,
   "id": "36b3f851-ec5f-4eaf-a2a9-d2cfdf084245",
   "metadata": {},
   "outputs": [],
   "source": [
    "import tarfile\n",
    "\n",
    "with tarfile.open(\"model.tar.gz\", \"w:gz\") as tar:\n",
    "    tar.add('model.pt')"
   ]
  },
  {
   "cell_type": "code",
   "execution_count": null,
   "id": "8223e8f6-ed42-4e32-af92-3b5395f68737",
   "metadata": {},
   "outputs": [],
   "source": [
    "import sagemaker\n",
    "import boto3\n",
    "\n",
    "sagemaker_session = sagemaker.Session()\n",
    "bucket = sagemaker_session.default_bucket()\n",
    "model_artifact = sagemaker_session.upload_data(\n",
    "    \"model.tar.gz\",\n",
    "    bucket=bucket,\n",
    "    key_prefix=f\"flare-model/{JOB_ID}\"\n",
    ")\n",
    "role = sagemaker.get_execution_role()"
   ]
  },
  {
   "cell_type": "code",
   "execution_count": null,
   "id": "e9589b58-73be-46f0-b8ee-f62b2ce35de2",
   "metadata": {},
   "outputs": [],
   "source": [
    "from sagemaker.pytorch import PyTorchModel\n",
    "from sagemaker.serializers import JSONSerializer\n",
    "from sagemaker.deserializers import JSONDeserializer\n",
    "\n",
    "pytorch_model = PyTorchModel(\n",
    "    model_data=model_artifact,\n",
    "    role=role,\n",
    "    framework_version='2.3.0',\n",
    "    py_version=\"py311\",\n",
    "    entry_point=\"inference.py\",\n",
    ")\n",
    "\n",
    "predictor = pytorch_model.deploy(\n",
    "    initial_instance_count=1,\n",
    "    instance_type=\"ml.m5.large\",\n",
    "    serializer=JSONSerializer(),\n",
    "    deserializer=JSONDeserializer(),\n",
    ")"
   ]
  },
  {
   "cell_type": "code",
   "execution_count": null,
   "id": "ef6bcc73-00e1-44d4-8b96-899e8d23466c",
   "metadata": {},
   "outputs": [],
   "source": [
    "import torchvision\n",
    "\n",
    "test_data = torchvision.datasets.MNIST(\n",
    "    './data',\n",
    "    train=False,\n",
    "    download=False,\n",
    "    transform=torchvision.transforms.ToTensor(),\n",
    ")"
   ]
  },
  {
   "cell_type": "code",
   "execution_count": null,
   "id": "9cebed60-79ba-42ff-a099-af187431a3fe",
   "metadata": {},
   "outputs": [],
   "source": [
    "import json\n",
    "import numpy as np\n",
    "from tqdm import tqdm\n",
    "import matplotlib.pyplot as plt\n",
    "from sklearn.metrics import confusion_matrix, accuracy_score\n",
    "import seaborn as sns\n",
    "from torch.utils.data import DataLoader\n",
    "\n",
    "\n",
    "test_dataloader = DataLoader(test_data, batch_size=100, shuffle=False)\n",
    "# Lists to store predictions and true labels\n",
    "all_predictions = []\n",
    "all_labels = []\n",
    "\n",
    "# Iterate through the test data\n",
    "for image, label in tqdm(test_dataloader):\n",
    "    # Get model predictions\n",
    "    response = predictor.predict({\n",
    "        'inputs': image.numpy().tolist(),\n",
    "    })\n",
    "\n",
    "    # Assuming response contains predictions, adjust this based on your response format\n",
    "    batch_predictions = np.argmax(response, axis=1)\n",
    "\n",
    "    # Store predictions and labels\n",
    "    all_predictions.extend(batch_predictions)\n",
    "    all_labels.extend(label.numpy())\n",
    "\n",
    "# Convert lists to numpy arrays\n",
    "all_predictions = np.array(all_predictions)\n",
    "all_labels = np.array(all_labels)\n",
    "\n",
    "# Calculate accuracy\n",
    "accuracy = accuracy_score(all_labels, all_predictions)\n",
    "print(f\"\\nTest Accuracy: {accuracy:.4f}\")\n",
    "\n",
    "# Create confusion matrix\n",
    "cm = confusion_matrix(all_labels, all_predictions)\n",
    "\n",
    "# Plot confusion matrix\n",
    "plt.figure(figsize=(10, 8))\n",
    "sns.heatmap(cm, annot=True, fmt='d', cmap='Blues')\n",
    "plt.title('Confusion Matrix')\n",
    "plt.ylabel('True Label')\n",
    "plt.xlabel('Predicted Label')\n",
    "plt.show()\n",
    "\n",
    "# Print classification report\n",
    "from sklearn.metrics import classification_report\n",
    "print(\"\\nClassification Report:\")\n",
    "print(classification_report(all_labels, all_predictions))"
   ]
  },
  {
   "cell_type": "markdown",
   "id": "3d0c73b3-5631-401b-a1f4-354b3146caf8",
   "metadata": {},
   "source": [
    "# Clean Up"
   ]
  },
  {
   "cell_type": "code",
   "execution_count": null,
   "id": "fbecbd42-d2d2-4583-b5b1-d644a2a5798f",
   "metadata": {},
   "outputs": [],
   "source": [
    "predictor.delete_endpoint()\n",
    "pytorch_model.delete_model()"
   ]
  }
 ],
 "metadata": {
  "kernelspec": {
   "display_name": "Python 3 (ipykernel)",
   "language": "python",
   "name": "python3"
  },
  "language_info": {
   "codemirror_mode": {
    "name": "ipython",
    "version": 3
   },
   "file_extension": ".py",
   "mimetype": "text/x-python",
   "name": "python",
   "nbconvert_exporter": "python",
   "pygments_lexer": "ipython3",
   "version": "3.12.9"
  }
 },
 "nbformat": 4,
 "nbformat_minor": 5
}
