{
 "cells": [
  {
   "cell_type": "markdown",
   "id": "c874270d-4321-4e74-915d-9e04911abbc2",
   "metadata": {},
   "source": [
    "# Analyze Job Result"
   ]
  },
  {
   "cell_type": "markdown",
   "id": "f0387dce-948f-4870-be1c-406535740d6c",
   "metadata": {},
   "source": [
    "## Download Job Result"
   ]
  },
  {
   "cell_type": "code",
   "execution_count": null,
   "id": "434611d0-2e3d-475e-9f54-abbd2718eef0",
   "metadata": {},
   "outputs": [],
   "source": [
    "JOB_ID=\"<Replace with your job id>\""
   ]
  },
  {
   "cell_type": "code",
   "execution_count": null,
   "id": "2f85e3dc-062c-430d-a54f-1b7e4270129b",
   "metadata": {},
   "outputs": [],
   "source": [
    "import boto3\n",
    "import os\n",
    "from pathlib import Path\n",
    "from tqdm import tqdm\n",
    "\n",
    "sts_client = boto3.client('sts')\n",
    "account_info = sts_client.get_caller_identity()\n",
    "account_id = account_info['Account']\n",
    "\n",
    "bucket_name = f\"flare-provision-bucket-{account_id}\"\n",
    "\n",
    "local_dir = Path('outputs') / JOB_ID\n",
    "\n",
    "s3 = boto3.resource('s3')\n",
    "bucket = s3.Bucket(bucket_name)\n",
    "\n",
    "# Create local directory if it doesn't exist\n",
    "if local_dir and not os.path.exists(local_dir):\n",
    "    os.makedirs(local_dir)\n",
    "\n",
    "job_key = f'outputs/{JOB_ID}'\n",
    "# Download each object\n",
    "for obj in tqdm(bucket.objects.filter(Prefix=job_key)):\n",
    "    if obj.key.endswith('/'):\n",
    "        continue\n",
    "\n",
    "    os.makedirs(os.path.dirname(obj.key), exist_ok=True)\n",
    "    bucket.download_file(obj.key, obj.key)\n",
    "print('Download Complete')"
   ]
  },
  {
   "cell_type": "markdown",
   "id": "e751bb14-d768-4cd9-a2f4-d0f40c24a5f9",
   "metadata": {},
   "source": [
    "## Visualize Cross-Eval Result"
   ]
  },
  {
   "cell_type": "code",
   "execution_count": null,
   "id": "8223e8f6-ed42-4e32-af92-3b5395f68737",
   "metadata": {},
   "outputs": [],
   "source": [
    "import json\n",
    "import os\n",
    "from pprint import pprint\n",
    "\n",
    "with open(os.path.join(local_dir, 'workspace', 'cross_site_val', 'cross_val_results.json'), 'r') as f:\n",
    "    cross_val_result = json.loads(f.read())\n",
    "\n",
    "pprint(cross_val_result)"
   ]
  },
  {
   "cell_type": "code",
   "execution_count": null,
   "id": "e9589b58-73be-46f0-b8ee-f62b2ce35de2",
   "metadata": {},
   "outputs": [],
   "source": [
    "import pandas as pd\n",
    "import seaborn as sns\n",
    "import matplotlib.pyplot as plt\n",
    "\n",
    "for site in cross_val_result.values():\n",
    "    for model in site:\n",
    "        if type(site[model]) is not float:\n",
    "            site[model] = site[model]['accuracy']\n",
    "\n",
    "df = pd.DataFrame(cross_val_result)[['site-1', 'site-2','site-3']]\n",
    "df = df.reindex([\n",
    "    'SRV_FL_global_model.pt',\n",
    "    'SRV_best_FL_global_model.pt',\n",
    "    'site-1',\n",
    "    'site-2',\n",
    "    'site-3'\n",
    "])\n",
    "\n",
    "# Create the heatmap\n",
    "fig = plt.figure(figsize=(10, 8))\n",
    "sns.heatmap(\n",
    "    df,\n",
    "    annot=True,  # Show numbers in cells\n",
    "    fmt='.2f',   # Format numbers to 4 decimal places\n",
    "    cmap='Blues',  # Color scheme\n",
    "    vmin=0,   # Minimum value for color scaling\n",
    "    vmax=1,   # Maximum value for color scaling\n",
    "    cbar_kws={'label': 'Accuracy'}\n",
    ")\n",
    "\n",
    "plt.title('Cross-validation Accuracy Heatmap')\n",
    "plt.xlabel('Test Dataset')\n",
    "plt.ylabel('Model Source')\n",
    "\n",
    "# Adjust layout to prevent label cutoff\n",
    "plt.tight_layout()\n",
    "plt.show()"
   ]
  }
 ],
 "metadata": {
  "kernelspec": {
   "display_name": "Python 3 (ipykernel)",
   "language": "python",
   "name": "python3"
  },
  "language_info": {
   "codemirror_mode": {
    "name": "ipython",
    "version": 3
   },
   "file_extension": ".py",
   "mimetype": "text/x-python",
   "name": "python",
   "nbconvert_exporter": "python",
   "pygments_lexer": "ipython3",
   "version": "3.12.9"
  }
 },
 "nbformat": 4,
 "nbformat_minor": 5
}
